{
 "cells": [
  {
   "cell_type": "markdown",
   "id": "87377b69-5b44-40f6-b741-da3260261f8e",
   "metadata": {},
   "source": [
    "Q1. What is an API? Give an example, where an API is used in real life."
   ]
  },
  {
   "cell_type": "markdown",
   "id": "da8595f6-d90c-493b-9dbe-753b61f8e08c",
   "metadata": {},
   "source": [
    "API stands for Application Programming Interface, is a set of rules and protocols that allows different software applications to communicate and interact with each other. It acts as an intermediary, enabling the exchange of data and functionality between applications. \n",
    "\n",
    "One example of API usage in real life is the integration of payment services like PhonePay into e-commerce stores. When you use the \"Pay with PhonePay\" functionality on an online store, APIs are used to connect the store's application with the PhonePay API. The store's application sends an order request to the PhonePay API, specifying the amount owed and other details. The user is then authenticated through a pop-up, and if the payment is successful, the API sends a confirmation of payment back to the application"
   ]
  },
  {
   "cell_type": "markdown",
   "id": "9d4dabc2-44ce-4a70-9096-432076f06ccf",
   "metadata": {},
   "source": [
    "Q2. Give advantages and disadvantages of using API."
   ]
  },
  {
   "cell_type": "markdown",
   "id": "ff865b5d-dc91-43ff-b9fe-29bc08984323",
   "metadata": {},
   "source": [
    "Advantages- \n",
    "1. Streamlined Operations\n",
    "2. Increased Functionality\n",
    "3. Modularity\n",
    "4. Standardization\n",
    "5. Access to third-party services\n",
    "6. Collaboration\n",
    "\n",
    "Disadvantages-\n",
    "1. Limited Control\n",
    "2. Increased complexity\n",
    "3. Dependency on external services\n",
    "4. Security vulnerabilities"
   ]
  },
  {
   "cell_type": "markdown",
   "id": "78c77026-be6e-4677-8a21-71e6dc325951",
   "metadata": {},
   "source": []
  },
  {
   "cell_type": "markdown",
   "id": "9cf474e6-94e9-4c7c-bd51-1e8f6b73ec0b",
   "metadata": {},
   "source": [
    "Q3. What is a Web API? Differentiate between API and Web API."
   ]
  },
  {
   "cell_type": "markdown",
   "id": "c9e231d6-bfb4-4561-9776-9bc6e9d865a4",
   "metadata": {},
   "source": [
    "API is explained above, is a set of rules and protocols that allows different software applications to communicate and interact with each other. A Web API, on the other hand, is an API that is accessed over the web using the HTTP protocol. It is a concept rather than a specific technology and can be built using different technologies such as Java or .NET.\n"
   ]
  },
  {
   "cell_type": "markdown",
   "id": "4bc3555e-d85a-4f82-bb20-052e8ec207f8",
   "metadata": {},
   "source": [
    "Q4. Explain REST and SOAP Architecture. Mention shortcomings of SOAP."
   ]
  },
  {
   "cell_type": "markdown",
   "id": "22f2eea5-1581-4c0e-a524-298cf36f36c8",
   "metadata": {},
   "source": [
    "REST stands for Representational state Transfer, is an architectual style for designing networked applications. It is not a protocol but rather a set of principles and constraints that guide the design of web services. REST treats everything as a resource, which can be identified by a unique URI (Uniform Resource Identifier). Resources can be accessed and manipulated using standard HTTP methods like GET, POST, PUT, and DELETE.\n",
    "\n",
    "SOAP Architecture stands for Simple Object Access Protocol, is a protocol for exchanging structured information in web services using XML.It is a more rigid and formal approach compared to REST. SOAP is a protocol that defines a set of rules and standards for communication between applications. It provides a formal contract for message exchange, including rules for message format, message headers, and error handling."
   ]
  },
  {
   "cell_type": "markdown",
   "id": "4fb91609-4d97-40ed-a9c0-b2a1e1498e82",
   "metadata": {},
   "source": [
    "Q5. Differentiate between REST and SOAP."
   ]
  },
  {
   "cell_type": "markdown",
   "id": "be0e549c-7db1-4863-8b95-ffb6c32f1d5c",
   "metadata": {},
   "source": [
    "1. REST is an architectural style, while SOAP is a protocol\n",
    "2. SOAP follows a strict standard for communication between the client and the server, while REST does not have a strict standard but follows a set of constraints defined by Roy Fielding\n",
    "3. SOAP uses XML exclusively for exchanging information in its message format, while REST is not restricted to XML and can use various media type like XML, JSON or plain text.\n",
    "4. SOAP is a protocol in itself, while REST is an architectural style that can use various protocols, with HTTP being the most common.\n",
    "5. REST is more flexible compared to SOAP. It has a smaller learning curve, requires no expensive tools to interact with the web service, and is easier to use for the most part."
   ]
  },
  {
   "cell_type": "code",
   "execution_count": null,
   "id": "3e33fa1c-3cac-4ccd-85a2-5f833cc2d4c5",
   "metadata": {},
   "outputs": [],
   "source": []
  }
 ],
 "metadata": {
  "kernelspec": {
   "display_name": "Python 3 (ipykernel)",
   "language": "python",
   "name": "python3"
  },
  "language_info": {
   "codemirror_mode": {
    "name": "ipython",
    "version": 3
   },
   "file_extension": ".py",
   "mimetype": "text/x-python",
   "name": "python",
   "nbconvert_exporter": "python",
   "pygments_lexer": "ipython3",
   "version": "3.10.8"
  }
 },
 "nbformat": 4,
 "nbformat_minor": 5
}
